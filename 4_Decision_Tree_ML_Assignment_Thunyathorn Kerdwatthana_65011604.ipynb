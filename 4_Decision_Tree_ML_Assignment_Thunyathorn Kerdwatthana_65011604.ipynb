{
  "cells": [
    {
      "cell_type": "code",
      "execution_count": 1,
      "metadata": {
        "id": "voqSRwU_wK_o"
      },
      "outputs": [],
      "source": [
        "import pandas as pd\n",
        "import math\n",
        "import numpy as np\n",
        "import matplotlib.pyplot as plt\n",
        "import networkx as nx"
      ]
    },
    {
      "cell_type": "markdown",
      "metadata": {
        "id": "GHNP1KKhv9WM"
      },
      "source": [
        "## Section 1: Example Dataset from Lecture Slides"
      ]
    },
    {
      "cell_type": "code",
      "execution_count": 2,
      "metadata": {
        "id": "Dk_FDmFPzSk0"
      },
      "outputs": [],
      "source": [
        "df = pd.read_csv('dataset\\Decision Tree Example Car Dataset.csv')"
      ]
    },
    {
      "cell_type": "code",
      "execution_count": 3,
      "metadata": {
        "colab": {
          "base_uri": "https://localhost:8080/",
          "height": 489
        },
        "id": "lxW7v0HhzSn0",
        "outputId": "6c0423be-07e3-435c-d785-9d8a38e24cf9"
      },
      "outputs": [
        {
          "data": {
            "text/html": [
              "<div>\n",
              "<style scoped>\n",
              "    .dataframe tbody tr th:only-of-type {\n",
              "        vertical-align: middle;\n",
              "    }\n",
              "\n",
              "    .dataframe tbody tr th {\n",
              "        vertical-align: top;\n",
              "    }\n",
              "\n",
              "    .dataframe thead th {\n",
              "        text-align: right;\n",
              "    }\n",
              "</style>\n",
              "<table border=\"1\" class=\"dataframe\">\n",
              "  <thead>\n",
              "    <tr style=\"text-align: right;\">\n",
              "      <th></th>\n",
              "      <th>type</th>\n",
              "      <th>color</th>\n",
              "      <th>tyre</th>\n",
              "      <th>doors</th>\n",
              "      <th>label</th>\n",
              "    </tr>\n",
              "  </thead>\n",
              "  <tbody>\n",
              "    <tr>\n",
              "      <th>0</th>\n",
              "      <td>suv</td>\n",
              "      <td>red</td>\n",
              "      <td>white</td>\n",
              "      <td>2</td>\n",
              "      <td>1</td>\n",
              "    </tr>\n",
              "    <tr>\n",
              "      <th>1</th>\n",
              "      <td>car</td>\n",
              "      <td>green</td>\n",
              "      <td>black</td>\n",
              "      <td>2</td>\n",
              "      <td>1</td>\n",
              "    </tr>\n",
              "    <tr>\n",
              "      <th>2</th>\n",
              "      <td>car</td>\n",
              "      <td>blue</td>\n",
              "      <td>white</td>\n",
              "      <td>2</td>\n",
              "      <td>1</td>\n",
              "    </tr>\n",
              "    <tr>\n",
              "      <th>3</th>\n",
              "      <td>suv</td>\n",
              "      <td>green</td>\n",
              "      <td>white</td>\n",
              "      <td>4</td>\n",
              "      <td>1</td>\n",
              "    </tr>\n",
              "    <tr>\n",
              "      <th>4</th>\n",
              "      <td>car</td>\n",
              "      <td>red</td>\n",
              "      <td>black</td>\n",
              "      <td>2</td>\n",
              "      <td>1</td>\n",
              "    </tr>\n",
              "    <tr>\n",
              "      <th>5</th>\n",
              "      <td>minivan</td>\n",
              "      <td>blue</td>\n",
              "      <td>white</td>\n",
              "      <td>4</td>\n",
              "      <td>0</td>\n",
              "    </tr>\n",
              "    <tr>\n",
              "      <th>6</th>\n",
              "      <td>car</td>\n",
              "      <td>green</td>\n",
              "      <td>white</td>\n",
              "      <td>4</td>\n",
              "      <td>0</td>\n",
              "    </tr>\n",
              "    <tr>\n",
              "      <th>7</th>\n",
              "      <td>minivan</td>\n",
              "      <td>red</td>\n",
              "      <td>black</td>\n",
              "      <td>4</td>\n",
              "      <td>0</td>\n",
              "    </tr>\n",
              "    <tr>\n",
              "      <th>8</th>\n",
              "      <td>suv</td>\n",
              "      <td>green</td>\n",
              "      <td>black</td>\n",
              "      <td>4</td>\n",
              "      <td>0</td>\n",
              "    </tr>\n",
              "    <tr>\n",
              "      <th>9</th>\n",
              "      <td>suv</td>\n",
              "      <td>blue</td>\n",
              "      <td>black</td>\n",
              "      <td>2</td>\n",
              "      <td>0</td>\n",
              "    </tr>\n",
              "    <tr>\n",
              "      <th>10</th>\n",
              "      <td>suv</td>\n",
              "      <td>red</td>\n",
              "      <td>black</td>\n",
              "      <td>2</td>\n",
              "      <td>0</td>\n",
              "    </tr>\n",
              "    <tr>\n",
              "      <th>11</th>\n",
              "      <td>car</td>\n",
              "      <td>blue</td>\n",
              "      <td>black</td>\n",
              "      <td>4</td>\n",
              "      <td>0</td>\n",
              "    </tr>\n",
              "    <tr>\n",
              "      <th>12</th>\n",
              "      <td>suv</td>\n",
              "      <td>green</td>\n",
              "      <td>black</td>\n",
              "      <td>2</td>\n",
              "      <td>0</td>\n",
              "    </tr>\n",
              "    <tr>\n",
              "      <th>13</th>\n",
              "      <td>minivan</td>\n",
              "      <td>green</td>\n",
              "      <td>white</td>\n",
              "      <td>4</td>\n",
              "      <td>0</td>\n",
              "    </tr>\n",
              "  </tbody>\n",
              "</table>\n",
              "</div>"
            ],
            "text/plain": [
              "       type  color   tyre  doors  label\n",
              "0       suv    red  white      2      1\n",
              "1       car  green  black      2      1\n",
              "2       car   blue  white      2      1\n",
              "3       suv  green  white      4      1\n",
              "4       car    red  black      2      1\n",
              "5   minivan   blue  white      4      0\n",
              "6       car  green  white      4      0\n",
              "7   minivan    red  black      4      0\n",
              "8       suv  green  black      4      0\n",
              "9       suv   blue  black      2      0\n",
              "10      suv    red  black      2      0\n",
              "11      car   blue  black      4      0\n",
              "12      suv  green  black      2      0\n",
              "13  minivan  green  white      4      0"
            ]
          },
          "execution_count": 3,
          "metadata": {},
          "output_type": "execute_result"
        }
      ],
      "source": [
        "df.columns = [col.lower() for col in df.columns]\n",
        "\n",
        "unique_label = list(set(df[\"label\"]))\n",
        "\n",
        "df"
      ]
    },
    {
      "cell_type": "code",
      "execution_count": 4,
      "metadata": {
        "id": "FN8z_gssA9AU"
      },
      "outputs": [],
      "source": [
        "# num_case_dict contains the data showing the population for each label\n",
        "# ie. we have 30 rows with class label1, 26 rows with label2 and 22 rows with label3\n",
        "# num_case_dict = { \"label1\" : 30, \"label2\": 26, \"label3\": 22}\n",
        "\n",
        "def gen_num_case_dict(df):\n",
        "  # complete your code here\n",
        "  unique_label = list(set(df[\"label\"]))\n",
        "  num_case_dict = {i : list(df[\"label\"]).count(i) for i in unique_label}\n",
        "  return num_case_dict"
      ]
    },
    {
      "cell_type": "code",
      "execution_count": 5,
      "metadata": {
        "colab": {
          "base_uri": "https://localhost:8080/"
        },
        "id": "EdGE5fTsmEuT",
        "outputId": "f290dff4-bfde-4fbc-d436-9a7fc1b84ab3"
      },
      "outputs": [
        {
          "data": {
            "text/plain": [
              "{0: 9, 1: 5}"
            ]
          },
          "execution_count": 5,
          "metadata": {},
          "output_type": "execute_result"
        }
      ],
      "source": [
        "num_case_dict = gen_num_case_dict(df)\n",
        "num_case_dict"
      ]
    },
    {
      "cell_type": "code",
      "execution_count": 6,
      "metadata": {
        "id": "bSxKaEvcHe6c"
      },
      "outputs": [],
      "source": [
        "assert num_case_dict == {1: 5, 0: 9}"
      ]
    },
    {
      "cell_type": "code",
      "execution_count": 7,
      "metadata": {
        "id": "euHsIInlB39B"
      },
      "outputs": [],
      "source": [
        "# input num_case_array and return the entropy value\n",
        "\n",
        "def cal_entropy(num_case_dict):\n",
        "  # complete your code here\n",
        "  p = np.array([v / sum(list(num_case_dict.values())) for _ , v in num_case_dict.items()])\n",
        "  log_arr = [math.log(i , 2) for i in p]\n",
        "  entropy_sum = -sum(p*log_arr)\n",
        "  \n",
        "  return entropy_sum"
      ]
    },
    {
      "cell_type": "code",
      "execution_count": 8,
      "metadata": {
        "colab": {
          "base_uri": "https://localhost:8080/"
        },
        "id": "Ml4CAMKJn_wu",
        "outputId": "f9307af0-b28a-4e5d-ca66-b34f895562a8"
      },
      "outputs": [
        {
          "data": {
            "text/plain": [
              "0.9402859586706309"
            ]
          },
          "execution_count": 8,
          "metadata": {},
          "output_type": "execute_result"
        }
      ],
      "source": [
        "cal_entropy( num_case_dict )"
      ]
    },
    {
      "cell_type": "code",
      "execution_count": 9,
      "metadata": {
        "id": "168XyL1cHQte"
      },
      "outputs": [],
      "source": [
        "assert np.allclose(cal_entropy( num_case_dict ), 0.9402859586706311)"
      ]
    },
    {
      "cell_type": "code",
      "execution_count": 10,
      "metadata": {
        "colab": {
          "base_uri": "https://localhost:8080/",
          "height": 227
        },
        "id": "VrzxLavjphpT",
        "outputId": "cc17a545-ee33-4cac-f51a-2baba55cfd28"
      },
      "outputs": [
        {
          "data": {
            "text/html": [
              "<div>\n",
              "<style scoped>\n",
              "    .dataframe tbody tr th:only-of-type {\n",
              "        vertical-align: middle;\n",
              "    }\n",
              "\n",
              "    .dataframe tbody tr th {\n",
              "        vertical-align: top;\n",
              "    }\n",
              "\n",
              "    .dataframe thead th {\n",
              "        text-align: right;\n",
              "    }\n",
              "</style>\n",
              "<table border=\"1\" class=\"dataframe\">\n",
              "  <thead>\n",
              "    <tr style=\"text-align: right;\">\n",
              "      <th></th>\n",
              "      <th>type</th>\n",
              "      <th>color</th>\n",
              "      <th>tyre</th>\n",
              "      <th>doors</th>\n",
              "      <th>label</th>\n",
              "    </tr>\n",
              "  </thead>\n",
              "  <tbody>\n",
              "    <tr>\n",
              "      <th>0</th>\n",
              "      <td>suv</td>\n",
              "      <td>red</td>\n",
              "      <td>white</td>\n",
              "      <td>2</td>\n",
              "      <td>1</td>\n",
              "    </tr>\n",
              "    <tr>\n",
              "      <th>4</th>\n",
              "      <td>car</td>\n",
              "      <td>red</td>\n",
              "      <td>black</td>\n",
              "      <td>2</td>\n",
              "      <td>1</td>\n",
              "    </tr>\n",
              "    <tr>\n",
              "      <th>7</th>\n",
              "      <td>minivan</td>\n",
              "      <td>red</td>\n",
              "      <td>black</td>\n",
              "      <td>4</td>\n",
              "      <td>0</td>\n",
              "    </tr>\n",
              "    <tr>\n",
              "      <th>10</th>\n",
              "      <td>suv</td>\n",
              "      <td>red</td>\n",
              "      <td>black</td>\n",
              "      <td>2</td>\n",
              "      <td>0</td>\n",
              "    </tr>\n",
              "  </tbody>\n",
              "</table>\n",
              "</div>"
            ],
            "text/plain": [
              "       type color   tyre  doors  label\n",
              "0       suv   red  white      2      1\n",
              "4       car   red  black      2      1\n",
              "7   minivan   red  black      4      0\n",
              "10      suv   red  black      2      0"
            ]
          },
          "metadata": {},
          "output_type": "display_data"
        },
        {
          "name": "stdout",
          "output_type": "stream",
          "text": [
            "{0: 2, 1: 2}\n",
            "entropy_red 1.0\n"
          ]
        },
        {
          "data": {
            "text/plain": [
              "0.2857142857142857"
            ]
          },
          "execution_count": 10,
          "metadata": {},
          "output_type": "execute_result"
        }
      ],
      "source": [
        "# split by color red\n",
        "\n",
        "df_red = df[ df['color'] == 'red']\n",
        "\n",
        "display(df_red)\n",
        "\n",
        "num_case_dict_red = gen_num_case_dict(df_red)\n",
        "\n",
        "print(num_case_dict_red)\n",
        "\n",
        "entropy_red = cal_entropy(num_case_dict_red)\n",
        "\n",
        "print('entropy_red', entropy_red)\n",
        "\n",
        "entropy_red_weighted = (len(df_red)/len(df)) * entropy_red\n",
        "entropy_red_weighted\n"
      ]
    },
    {
      "cell_type": "code",
      "execution_count": 11,
      "metadata": {
        "id": "J4N7OK6Pp8F_"
      },
      "outputs": [],
      "source": [
        "# calculate the entropy gain from a decision tree split using a particular feature on a particular df\n",
        "\n",
        "def cal_entropy_split_gain(df, split_feature):\n",
        "  # complete your code here\n",
        "\n",
        "  #Attribute Entropy\n",
        "  feature = list(df[split_feature])\n",
        "  feature_unique = list(set(feature))\n",
        "  df_list = [df[df[split_feature] == i] for i in feature_unique]\n",
        "  case_list = [gen_num_case_dict(i) for i in df_list]\n",
        "  sigma = sum([(feature.count(feature_unique[i])/len(feature)) * cal_entropy(case_list[i]) for i in range(len(case_list))])\n",
        "  \n",
        "  #Information Gain\n",
        "  entropy_gain = cal_entropy(num_case_dict) - sigma\n",
        "\n",
        "  return entropy_gain\n"
      ]
    },
    {
      "cell_type": "code",
      "execution_count": 12,
      "metadata": {
        "colab": {
          "base_uri": "https://localhost:8080/"
        },
        "id": "KZpMOiIfs7oV",
        "outputId": "d6f6f04f-6526-4e5d-ca80-ac926eb63fa7"
      },
      "outputs": [
        {
          "data": {
            "text/plain": [
              "0.029222565658954647"
            ]
          },
          "execution_count": 12,
          "metadata": {},
          "output_type": "execute_result"
        }
      ],
      "source": [
        "cal_entropy_split_gain(df, 'color')"
      ]
    },
    {
      "cell_type": "code",
      "execution_count": 13,
      "metadata": {
        "id": "QaNtERGLH5vU"
      },
      "outputs": [],
      "source": [
        "assert np.allclose( cal_entropy_split_gain(df, 'color'), 0.02922256565895487 )"
      ]
    },
    {
      "cell_type": "code",
      "execution_count": 14,
      "metadata": {
        "colab": {
          "base_uri": "https://localhost:8080/"
        },
        "id": "QA56KItVurOI",
        "outputId": "d0844647-38ad-4ab4-9ac3-db0779580ec5"
      },
      "outputs": [
        {
          "data": {
            "text/plain": [
              "0.19996253177061096"
            ]
          },
          "execution_count": 14,
          "metadata": {},
          "output_type": "execute_result"
        }
      ],
      "source": [
        "cal_entropy_split_gain(df, 'type')"
      ]
    },
    {
      "cell_type": "code",
      "execution_count": 15,
      "metadata": {
        "id": "10OIN8IzH-b3"
      },
      "outputs": [],
      "source": [
        "assert np.allclose( cal_entropy_split_gain(df, 'type'), 0.19996253177061118 )"
      ]
    },
    {
      "cell_type": "code",
      "execution_count": 16,
      "metadata": {
        "colab": {
          "base_uri": "https://localhost:8080/"
        },
        "id": "lnFxrVl2uwsr",
        "outputId": "b53ab21e-2e66-4dde-e997-e8cc075a3c5d"
      },
      "outputs": [
        {
          "data": {
            "text/plain": [
              "0.15183550136234136"
            ]
          },
          "execution_count": 16,
          "metadata": {},
          "output_type": "execute_result"
        }
      ],
      "source": [
        "cal_entropy_split_gain(df, 'doors')"
      ]
    },
    {
      "cell_type": "code",
      "execution_count": 17,
      "metadata": {
        "id": "NU5RhNtiICsm"
      },
      "outputs": [],
      "source": [
        "assert np.allclose( cal_entropy_split_gain(df, 'doors'), 0.15183550136234159 )"
      ]
    },
    {
      "cell_type": "code",
      "execution_count": 18,
      "metadata": {
        "colab": {
          "base_uri": "https://localhost:8080/"
        },
        "id": "D3wdI-HyuyUC",
        "outputId": "a6d09267-1145-419d-9d5f-49becaa5c0a6"
      },
      "outputs": [
        {
          "data": {
            "text/plain": [
              "0.04812703040826927"
            ]
          },
          "execution_count": 18,
          "metadata": {},
          "output_type": "execute_result"
        }
      ],
      "source": [
        "cal_entropy_split_gain(df, 'tyre')"
      ]
    },
    {
      "cell_type": "code",
      "execution_count": 19,
      "metadata": {
        "id": "J7kf0PniIGmO"
      },
      "outputs": [],
      "source": [
        "assert np.allclose( cal_entropy_split_gain(df, 'tyre'), 0.04812703040826949 )"
      ]
    },
    {
      "cell_type": "code",
      "execution_count": 20,
      "metadata": {
        "id": "Vm-wxuXxv5d9"
      },
      "outputs": [],
      "source": [
        "# Given the df and available features for conducting split, find the feature that produces maximum entropy gain.\n",
        "\n",
        "def choose_best_split(df, available_feature_array):\n",
        "  # complete your code here\n",
        "  entropy_dict = {cal_entropy_split_gain(df , i) : i for i in available_feature_array}\n",
        "  #print(\"Entropy Dictionary: \" , entropy_dict)\n",
        "  feature_with_max_entropy_gain = entropy_dict[max(list(entropy_dict.keys()))]\n",
        "  \n",
        "  return feature_with_max_entropy_gain"
      ]
    },
    {
      "cell_type": "code",
      "execution_count": 21,
      "metadata": {
        "colab": {
          "base_uri": "https://localhost:8080/",
          "height": 35
        },
        "id": "tZuY6nL6wCMh",
        "outputId": "bc92ca0c-8c24-4faf-f93b-5daaa69e39ff"
      },
      "outputs": [
        {
          "data": {
            "text/plain": [
              "'type'"
            ]
          },
          "execution_count": 21,
          "metadata": {},
          "output_type": "execute_result"
        }
      ],
      "source": [
        "columns_list = df.columns.tolist()\n",
        "columns_list.remove('label')\n",
        "best_split_feature = choose_best_split(df, columns_list)\n",
        "best_split_feature"
      ]
    },
    {
      "cell_type": "code",
      "execution_count": 22,
      "metadata": {
        "id": "tLeSfahCJxsd"
      },
      "outputs": [],
      "source": [
        "assert best_split_feature == 'type'"
      ]
    },
    {
      "cell_type": "code",
      "execution_count": 23,
      "metadata": {
        "id": "kV9njBErThez"
      },
      "outputs": [],
      "source": [
        "# Generate a dictionary containing the split key and resulting df due to the split key and split feature.\n",
        "\n",
        "def gen_feature_split_result(df, split_feature):\n",
        "  # complete your code here\n",
        "  feature = list(df[split_feature])\n",
        "  feature_unique = list(set(feature))\n",
        "  df_split_dict = {i : df[df[split_feature] == i] for i in feature_unique}\n",
        "\n",
        "  return df_split_dict"
      ]
    },
    {
      "cell_type": "code",
      "execution_count": 24,
      "metadata": {
        "colab": {
          "base_uri": "https://localhost:8080/"
        },
        "id": "coVRkHyJUFgT",
        "outputId": "807b752c-c8a0-4972-fb97-e017b360507e"
      },
      "outputs": [
        {
          "data": {
            "text/plain": [
              "{'car':    type  color   tyre  doors  label\n",
              " 1   car  green  black      2      1\n",
              " 2   car   blue  white      2      1\n",
              " 4   car    red  black      2      1\n",
              " 6   car  green  white      4      0\n",
              " 11  car   blue  black      4      0,\n",
              " 'minivan':        type  color   tyre  doors  label\n",
              " 5   minivan   blue  white      4      0\n",
              " 7   minivan    red  black      4      0\n",
              " 13  minivan  green  white      4      0,\n",
              " 'suv':    type  color   tyre  doors  label\n",
              " 0   suv    red  white      2      1\n",
              " 3   suv  green  white      4      1\n",
              " 8   suv  green  black      4      0\n",
              " 9   suv   blue  black      2      0\n",
              " 10  suv    red  black      2      0\n",
              " 12  suv  green  black      2      0}"
            ]
          },
          "execution_count": 24,
          "metadata": {},
          "output_type": "execute_result"
        }
      ],
      "source": [
        "df_split_dict = gen_feature_split_result(df, best_split_feature)\n",
        "df_split_dict"
      ]
    },
    {
      "cell_type": "code",
      "execution_count": 25,
      "metadata": {
        "id": "6xJsiXzCKo4O"
      },
      "outputs": [],
      "source": [
        "assert len(df_split_dict) == 3\n",
        "assert len(df_split_dict['suv']) == 6\n",
        "assert len(df_split_dict['minivan']) == 3\n",
        "assert len(df_split_dict['car']) == 5"
      ]
    },
    {
      "cell_type": "code",
      "execution_count": 26,
      "metadata": {
        "colab": {
          "base_uri": "https://localhost:8080/",
          "height": 238
        },
        "id": "TTel7PjeUbru",
        "outputId": "6acd6910-cc1b-493c-facc-fdff998d207b"
      },
      "outputs": [
        {
          "data": {
            "text/html": [
              "<div>\n",
              "<style scoped>\n",
              "    .dataframe tbody tr th:only-of-type {\n",
              "        vertical-align: middle;\n",
              "    }\n",
              "\n",
              "    .dataframe tbody tr th {\n",
              "        vertical-align: top;\n",
              "    }\n",
              "\n",
              "    .dataframe thead th {\n",
              "        text-align: right;\n",
              "    }\n",
              "</style>\n",
              "<table border=\"1\" class=\"dataframe\">\n",
              "  <thead>\n",
              "    <tr style=\"text-align: right;\">\n",
              "      <th></th>\n",
              "      <th>type</th>\n",
              "      <th>color</th>\n",
              "      <th>tyre</th>\n",
              "      <th>doors</th>\n",
              "      <th>label</th>\n",
              "    </tr>\n",
              "  </thead>\n",
              "  <tbody>\n",
              "    <tr>\n",
              "      <th>0</th>\n",
              "      <td>suv</td>\n",
              "      <td>red</td>\n",
              "      <td>white</td>\n",
              "      <td>2</td>\n",
              "      <td>1</td>\n",
              "    </tr>\n",
              "    <tr>\n",
              "      <th>3</th>\n",
              "      <td>suv</td>\n",
              "      <td>green</td>\n",
              "      <td>white</td>\n",
              "      <td>4</td>\n",
              "      <td>1</td>\n",
              "    </tr>\n",
              "    <tr>\n",
              "      <th>8</th>\n",
              "      <td>suv</td>\n",
              "      <td>green</td>\n",
              "      <td>black</td>\n",
              "      <td>4</td>\n",
              "      <td>0</td>\n",
              "    </tr>\n",
              "    <tr>\n",
              "      <th>9</th>\n",
              "      <td>suv</td>\n",
              "      <td>blue</td>\n",
              "      <td>black</td>\n",
              "      <td>2</td>\n",
              "      <td>0</td>\n",
              "    </tr>\n",
              "    <tr>\n",
              "      <th>10</th>\n",
              "      <td>suv</td>\n",
              "      <td>red</td>\n",
              "      <td>black</td>\n",
              "      <td>2</td>\n",
              "      <td>0</td>\n",
              "    </tr>\n",
              "    <tr>\n",
              "      <th>12</th>\n",
              "      <td>suv</td>\n",
              "      <td>green</td>\n",
              "      <td>black</td>\n",
              "      <td>2</td>\n",
              "      <td>0</td>\n",
              "    </tr>\n",
              "  </tbody>\n",
              "</table>\n",
              "</div>"
            ],
            "text/plain": [
              "   type  color   tyre  doors  label\n",
              "0   suv    red  white      2      1\n",
              "3   suv  green  white      4      1\n",
              "8   suv  green  black      4      0\n",
              "9   suv   blue  black      2      0\n",
              "10  suv    red  black      2      0\n",
              "12  suv  green  black      2      0"
            ]
          },
          "execution_count": 26,
          "metadata": {},
          "output_type": "execute_result"
        }
      ],
      "source": [
        "df_split_dict['suv']"
      ]
    },
    {
      "cell_type": "code",
      "execution_count": 27,
      "metadata": {
        "colab": {
          "base_uri": "https://localhost:8080/",
          "height": 144
        },
        "id": "xeaXOB98UiGM",
        "outputId": "8a2928f6-e735-4ece-ed00-8668e1ca879b"
      },
      "outputs": [
        {
          "data": {
            "text/html": [
              "<div>\n",
              "<style scoped>\n",
              "    .dataframe tbody tr th:only-of-type {\n",
              "        vertical-align: middle;\n",
              "    }\n",
              "\n",
              "    .dataframe tbody tr th {\n",
              "        vertical-align: top;\n",
              "    }\n",
              "\n",
              "    .dataframe thead th {\n",
              "        text-align: right;\n",
              "    }\n",
              "</style>\n",
              "<table border=\"1\" class=\"dataframe\">\n",
              "  <thead>\n",
              "    <tr style=\"text-align: right;\">\n",
              "      <th></th>\n",
              "      <th>type</th>\n",
              "      <th>color</th>\n",
              "      <th>tyre</th>\n",
              "      <th>doors</th>\n",
              "      <th>label</th>\n",
              "    </tr>\n",
              "  </thead>\n",
              "  <tbody>\n",
              "    <tr>\n",
              "      <th>5</th>\n",
              "      <td>minivan</td>\n",
              "      <td>blue</td>\n",
              "      <td>white</td>\n",
              "      <td>4</td>\n",
              "      <td>0</td>\n",
              "    </tr>\n",
              "    <tr>\n",
              "      <th>7</th>\n",
              "      <td>minivan</td>\n",
              "      <td>red</td>\n",
              "      <td>black</td>\n",
              "      <td>4</td>\n",
              "      <td>0</td>\n",
              "    </tr>\n",
              "    <tr>\n",
              "      <th>13</th>\n",
              "      <td>minivan</td>\n",
              "      <td>green</td>\n",
              "      <td>white</td>\n",
              "      <td>4</td>\n",
              "      <td>0</td>\n",
              "    </tr>\n",
              "  </tbody>\n",
              "</table>\n",
              "</div>"
            ],
            "text/plain": [
              "       type  color   tyre  doors  label\n",
              "5   minivan   blue  white      4      0\n",
              "7   minivan    red  black      4      0\n",
              "13  minivan  green  white      4      0"
            ]
          },
          "execution_count": 27,
          "metadata": {},
          "output_type": "execute_result"
        }
      ],
      "source": [
        "df_split_dict['minivan']"
      ]
    },
    {
      "cell_type": "code",
      "execution_count": 28,
      "metadata": {
        "colab": {
          "base_uri": "https://localhost:8080/",
          "height": 206
        },
        "id": "hDEG4YdMUkOW",
        "outputId": "67d4bdf1-97c2-4fe3-bc64-5cdb81ae0f6f"
      },
      "outputs": [
        {
          "data": {
            "text/html": [
              "<div>\n",
              "<style scoped>\n",
              "    .dataframe tbody tr th:only-of-type {\n",
              "        vertical-align: middle;\n",
              "    }\n",
              "\n",
              "    .dataframe tbody tr th {\n",
              "        vertical-align: top;\n",
              "    }\n",
              "\n",
              "    .dataframe thead th {\n",
              "        text-align: right;\n",
              "    }\n",
              "</style>\n",
              "<table border=\"1\" class=\"dataframe\">\n",
              "  <thead>\n",
              "    <tr style=\"text-align: right;\">\n",
              "      <th></th>\n",
              "      <th>type</th>\n",
              "      <th>color</th>\n",
              "      <th>tyre</th>\n",
              "      <th>doors</th>\n",
              "      <th>label</th>\n",
              "    </tr>\n",
              "  </thead>\n",
              "  <tbody>\n",
              "    <tr>\n",
              "      <th>1</th>\n",
              "      <td>car</td>\n",
              "      <td>green</td>\n",
              "      <td>black</td>\n",
              "      <td>2</td>\n",
              "      <td>1</td>\n",
              "    </tr>\n",
              "    <tr>\n",
              "      <th>2</th>\n",
              "      <td>car</td>\n",
              "      <td>blue</td>\n",
              "      <td>white</td>\n",
              "      <td>2</td>\n",
              "      <td>1</td>\n",
              "    </tr>\n",
              "    <tr>\n",
              "      <th>4</th>\n",
              "      <td>car</td>\n",
              "      <td>red</td>\n",
              "      <td>black</td>\n",
              "      <td>2</td>\n",
              "      <td>1</td>\n",
              "    </tr>\n",
              "    <tr>\n",
              "      <th>6</th>\n",
              "      <td>car</td>\n",
              "      <td>green</td>\n",
              "      <td>white</td>\n",
              "      <td>4</td>\n",
              "      <td>0</td>\n",
              "    </tr>\n",
              "    <tr>\n",
              "      <th>11</th>\n",
              "      <td>car</td>\n",
              "      <td>blue</td>\n",
              "      <td>black</td>\n",
              "      <td>4</td>\n",
              "      <td>0</td>\n",
              "    </tr>\n",
              "  </tbody>\n",
              "</table>\n",
              "</div>"
            ],
            "text/plain": [
              "   type  color   tyre  doors  label\n",
              "1   car  green  black      2      1\n",
              "2   car   blue  white      2      1\n",
              "4   car    red  black      2      1\n",
              "6   car  green  white      4      0\n",
              "11  car   blue  black      4      0"
            ]
          },
          "execution_count": 28,
          "metadata": {},
          "output_type": "execute_result"
        }
      ],
      "source": [
        "df_split_dict['car']"
      ]
    },
    {
      "cell_type": "markdown",
      "metadata": {
        "id": "5lD0V9fJwMRs"
      },
      "source": [
        "## Section 2: Create Tree Structure"
      ]
    },
    {
      "cell_type": "code",
      "execution_count": 29,
      "metadata": {
        "id": "_luIq6mu_qdG"
      },
      "outputs": [],
      "source": [
        "class Node:\n",
        "  def __init__(self, df, parent, parent_edge, parent_split_feature, available_features):\n",
        "    self.df = df\n",
        "    self.parent = parent\n",
        "    self.parent_edge = parent_edge\n",
        "    self.children = {}\n",
        "    self.split_feature = None\n",
        "    self.available_features = available_features\n",
        "    self.explored = False\n",
        "    self.predicted_label = None\n",
        "    if parent is not None:\n",
        "      parent.split_feature = parent_split_feature\n",
        "\n",
        "  def add_child(self, split_key, new_node):\n",
        "    self.children[split_key] = new_node"
      ]
    },
    {
      "cell_type": "code",
      "execution_count": 30,
      "metadata": {},
      "outputs": [],
      "source": [
        "class TreeGraph:\n",
        "  def __init__(self, df, available_features):\n",
        "    self.root = Node(df, None, None, None, available_features)\n",
        "    self.nodes = []\n",
        "    self.nodes.append(self.root)\n",
        "\n",
        "  def add_node(self, df, parent_node, parent_edge, parent_split_feature, available_features):\n",
        "    new_node = Node(df, parent_node, parent_edge, parent_split_feature, available_features)\n",
        "    self.nodes.append(new_node)\n",
        "    if parent_node is not None:\n",
        "      parent_node.add_child(  parent_edge, new_node )\n",
        "\n",
        "  def gen_decision_tree(self):\n",
        "    # Complete this code here\n",
        "    # When you run this function it should generate the full decision tree by creating all the nodes for the tree\n",
        "\n",
        "    i = 0\n",
        "    complete = False\n",
        "    while not complete:\n",
        "      \n",
        "      cur_node = self.nodes[i]\n",
        "      \n",
        "      #Check if target is certain yet or find mode at the leaf\n",
        "      if (len(cur_node.df[\"label\"].value_counts()) == 1 or len(cur_node.available_features) == 0) and not complete:\n",
        "    \n",
        "        i += 1\n",
        "\n",
        "        if i < len(self.nodes):\n",
        "          cur_node = self.nodes[i]\n",
        "        else:\n",
        "          complete = True\n",
        "      #Add system if there is no next node it will vote on the current node\n",
        "\n",
        "      #Adding Nodes\n",
        "      elif not complete:\n",
        "\n",
        "\n",
        "        #Finding Best split\n",
        "        cur_node.split_feature = choose_best_split(cur_node.df , cur_node.available_features)\n",
        "\n",
        "        #print(\"Split feature: \" , cur_node.split_feature)\n",
        "        #print(\"Node Index: \" , self.nodes.index(self.nodes[i]))\n",
        "        #print(\"Dataframe: \\n\" , cur_node.df)\n",
        "\n",
        "        #Remove the used feature\n",
        "        new_available_features = cur_node.available_features.copy()\n",
        "        new_available_features.remove(cur_node.split_feature)\n",
        "\n",
        "        \n",
        "        #Setting Children\n",
        "        prep_child_dict = gen_feature_split_result(cur_node.df , cur_node.split_feature)\n",
        "        #print(\"Prep for child dict key: \\n\" , prep_child_dict.keys())\n",
        "  \n",
        "        for edge , df in prep_child_dict.items():\n",
        "          self.add_node(df , cur_node , edge , cur_node.split_feature , new_available_features) \n",
        "          #print(\"Node Added: \" , edge)\n",
        "        \n",
        "        i += 1\n",
        "\n",
        "    return"
      ]
    },
    {
      "cell_type": "code",
      "execution_count": 31,
      "metadata": {
        "colab": {
          "base_uri": "https://localhost:8080/"
        },
        "id": "mVa0dJh_BqGA",
        "outputId": "f9564ab3-677e-47eb-c5fb-663f3969fc9c"
      },
      "outputs": [
        {
          "data": {
            "text/plain": [
              "pandas.core.indexes.base.Index"
            ]
          },
          "execution_count": 31,
          "metadata": {},
          "output_type": "execute_result"
        }
      ],
      "source": [
        "type(df.columns)"
      ]
    },
    {
      "cell_type": "code",
      "execution_count": 32,
      "metadata": {
        "colab": {
          "base_uri": "https://localhost:8080/"
        },
        "id": "kqSdxtvSEAr9",
        "outputId": "dae0980a-b98e-4185-c4c6-d1aedf3f370f"
      },
      "outputs": [
        {
          "data": {
            "text/plain": [
              "[<__main__.Node at 0x283408af970>,\n",
              " <__main__.Node at 0x2833ec2d1e0>,\n",
              " <__main__.Node at 0x283408af5b0>,\n",
              " <__main__.Node at 0x283408af460>,\n",
              " <__main__.Node at 0x283408afd00>,\n",
              " <__main__.Node at 0x283408adb40>,\n",
              " <__main__.Node at 0x283408aeec0>,\n",
              " <__main__.Node at 0x283408aead0>]"
            ]
          },
          "execution_count": 32,
          "metadata": {},
          "output_type": "execute_result"
        }
      ],
      "source": [
        "columns_list = df.columns.tolist()\n",
        "columns_list.remove('label')\n",
        "g = TreeGraph(df, columns_list)\n",
        "g.gen_decision_tree()\n",
        "g.nodes"
      ]
    },
    {
      "cell_type": "code",
      "execution_count": 33,
      "metadata": {},
      "outputs": [
        {
          "name": "stdout",
          "output_type": "stream",
          "text": [
            "{'car': <__main__.Node object at 0x000002833EC2D1E0>, 'minivan': <__main__.Node object at 0x00000283408AF5B0>, 'suv': <__main__.Node object at 0x00000283408AF460>}\n"
          ]
        }
      ],
      "source": [
        "print(g.root.children)"
      ]
    },
    {
      "cell_type": "code",
      "execution_count": 34,
      "metadata": {
        "id": "ju7J5HxULG6v"
      },
      "outputs": [],
      "source": [
        "assert len(g.nodes) == 8"
      ]
    },
    {
      "cell_type": "code",
      "execution_count": 35,
      "metadata": {
        "id": "WOkDX4_sFGyX"
      },
      "outputs": [],
      "source": [
        "assert g.root.split_feature == 'type'"
      ]
    },
    {
      "cell_type": "code",
      "execution_count": 36,
      "metadata": {
        "id": "N9A0RJ_eFMNX"
      },
      "outputs": [],
      "source": [
        "assert len(g.root.children) == 3"
      ]
    },
    {
      "cell_type": "code",
      "execution_count": 37,
      "metadata": {
        "colab": {
          "base_uri": "https://localhost:8080/"
        },
        "id": "8tS-T4p-Pk86",
        "outputId": "4763924a-83c3-4abf-b4e4-93f3de372ebe"
      },
      "outputs": [
        {
          "data": {
            "text/plain": [
              "dict_items([('car', <__main__.Node object at 0x000002833EC2D1E0>), ('minivan', <__main__.Node object at 0x00000283408AF5B0>), ('suv', <__main__.Node object at 0x00000283408AF460>)])"
            ]
          },
          "execution_count": 37,
          "metadata": {},
          "output_type": "execute_result"
        }
      ],
      "source": [
        "g.root.children.items()"
      ]
    },
    {
      "cell_type": "code",
      "execution_count": 38,
      "metadata": {
        "colab": {
          "base_uri": "https://localhost:8080/",
          "height": 206
        },
        "id": "yJyZrDBlHMcH",
        "outputId": "ed91e0cf-8d1d-4cf3-ce9e-141833559260"
      },
      "outputs": [
        {
          "data": {
            "text/html": [
              "<div>\n",
              "<style scoped>\n",
              "    .dataframe tbody tr th:only-of-type {\n",
              "        vertical-align: middle;\n",
              "    }\n",
              "\n",
              "    .dataframe tbody tr th {\n",
              "        vertical-align: top;\n",
              "    }\n",
              "\n",
              "    .dataframe thead th {\n",
              "        text-align: right;\n",
              "    }\n",
              "</style>\n",
              "<table border=\"1\" class=\"dataframe\">\n",
              "  <thead>\n",
              "    <tr style=\"text-align: right;\">\n",
              "      <th></th>\n",
              "      <th>type</th>\n",
              "      <th>color</th>\n",
              "      <th>tyre</th>\n",
              "      <th>doors</th>\n",
              "      <th>label</th>\n",
              "    </tr>\n",
              "  </thead>\n",
              "  <tbody>\n",
              "    <tr>\n",
              "      <th>1</th>\n",
              "      <td>car</td>\n",
              "      <td>green</td>\n",
              "      <td>black</td>\n",
              "      <td>2</td>\n",
              "      <td>1</td>\n",
              "    </tr>\n",
              "    <tr>\n",
              "      <th>2</th>\n",
              "      <td>car</td>\n",
              "      <td>blue</td>\n",
              "      <td>white</td>\n",
              "      <td>2</td>\n",
              "      <td>1</td>\n",
              "    </tr>\n",
              "    <tr>\n",
              "      <th>4</th>\n",
              "      <td>car</td>\n",
              "      <td>red</td>\n",
              "      <td>black</td>\n",
              "      <td>2</td>\n",
              "      <td>1</td>\n",
              "    </tr>\n",
              "    <tr>\n",
              "      <th>6</th>\n",
              "      <td>car</td>\n",
              "      <td>green</td>\n",
              "      <td>white</td>\n",
              "      <td>4</td>\n",
              "      <td>0</td>\n",
              "    </tr>\n",
              "    <tr>\n",
              "      <th>11</th>\n",
              "      <td>car</td>\n",
              "      <td>blue</td>\n",
              "      <td>black</td>\n",
              "      <td>4</td>\n",
              "      <td>0</td>\n",
              "    </tr>\n",
              "  </tbody>\n",
              "</table>\n",
              "</div>"
            ],
            "text/plain": [
              "   type  color   tyre  doors  label\n",
              "1   car  green  black      2      1\n",
              "2   car   blue  white      2      1\n",
              "4   car    red  black      2      1\n",
              "6   car  green  white      4      0\n",
              "11  car   blue  black      4      0"
            ]
          },
          "metadata": {},
          "output_type": "display_data"
        }
      ],
      "source": [
        "for node in g.nodes:\n",
        "  if node.split_feature == 'doors':\n",
        "    test_case = node.df\n",
        "    display(test_case)\n",
        "\n",
        "assert len(test_case) == 5\n",
        "assert np.array_equal( test_case['color'].to_numpy() , np.array(['green', 'blue', 'red', 'green', 'blue'], dtype=object) )"
      ]
    },
    {
      "cell_type": "code",
      "execution_count": 39,
      "metadata": {
        "colab": {
          "base_uri": "https://localhost:8080/",
          "height": 238
        },
        "id": "a4obQ7JVHMe3",
        "outputId": "1936ab6d-5974-4f0c-c15d-e4165598a125"
      },
      "outputs": [
        {
          "data": {
            "text/html": [
              "<div>\n",
              "<style scoped>\n",
              "    .dataframe tbody tr th:only-of-type {\n",
              "        vertical-align: middle;\n",
              "    }\n",
              "\n",
              "    .dataframe tbody tr th {\n",
              "        vertical-align: top;\n",
              "    }\n",
              "\n",
              "    .dataframe thead th {\n",
              "        text-align: right;\n",
              "    }\n",
              "</style>\n",
              "<table border=\"1\" class=\"dataframe\">\n",
              "  <thead>\n",
              "    <tr style=\"text-align: right;\">\n",
              "      <th></th>\n",
              "      <th>type</th>\n",
              "      <th>color</th>\n",
              "      <th>tyre</th>\n",
              "      <th>doors</th>\n",
              "      <th>label</th>\n",
              "    </tr>\n",
              "  </thead>\n",
              "  <tbody>\n",
              "    <tr>\n",
              "      <th>0</th>\n",
              "      <td>suv</td>\n",
              "      <td>red</td>\n",
              "      <td>white</td>\n",
              "      <td>2</td>\n",
              "      <td>1</td>\n",
              "    </tr>\n",
              "    <tr>\n",
              "      <th>3</th>\n",
              "      <td>suv</td>\n",
              "      <td>green</td>\n",
              "      <td>white</td>\n",
              "      <td>4</td>\n",
              "      <td>1</td>\n",
              "    </tr>\n",
              "    <tr>\n",
              "      <th>8</th>\n",
              "      <td>suv</td>\n",
              "      <td>green</td>\n",
              "      <td>black</td>\n",
              "      <td>4</td>\n",
              "      <td>0</td>\n",
              "    </tr>\n",
              "    <tr>\n",
              "      <th>9</th>\n",
              "      <td>suv</td>\n",
              "      <td>blue</td>\n",
              "      <td>black</td>\n",
              "      <td>2</td>\n",
              "      <td>0</td>\n",
              "    </tr>\n",
              "    <tr>\n",
              "      <th>10</th>\n",
              "      <td>suv</td>\n",
              "      <td>red</td>\n",
              "      <td>black</td>\n",
              "      <td>2</td>\n",
              "      <td>0</td>\n",
              "    </tr>\n",
              "    <tr>\n",
              "      <th>12</th>\n",
              "      <td>suv</td>\n",
              "      <td>green</td>\n",
              "      <td>black</td>\n",
              "      <td>2</td>\n",
              "      <td>0</td>\n",
              "    </tr>\n",
              "  </tbody>\n",
              "</table>\n",
              "</div>"
            ],
            "text/plain": [
              "   type  color   tyre  doors  label\n",
              "0   suv    red  white      2      1\n",
              "3   suv  green  white      4      1\n",
              "8   suv  green  black      4      0\n",
              "9   suv   blue  black      2      0\n",
              "10  suv    red  black      2      0\n",
              "12  suv  green  black      2      0"
            ]
          },
          "metadata": {},
          "output_type": "display_data"
        }
      ],
      "source": [
        "for node in g.nodes:\n",
        "  if node.split_feature == 'tyre':\n",
        "    test_case = node.df\n",
        "    display(test_case)\n",
        "\n",
        "assert len(test_case) == 6\n",
        "assert np.array_equal( test_case['color'].to_numpy() , np.array(['red', 'green', 'green', 'blue', 'red', 'green'], dtype=object) )"
      ]
    },
    {
      "cell_type": "code",
      "execution_count": 40,
      "metadata": {
        "colab": {
          "base_uri": "https://localhost:8080/",
          "height": 489
        },
        "id": "yjGESKn3HMhn",
        "outputId": "3efc6d8e-06e3-452e-eeb8-9d8aca95f356"
      },
      "outputs": [
        {
          "data": {
            "text/html": [
              "<div>\n",
              "<style scoped>\n",
              "    .dataframe tbody tr th:only-of-type {\n",
              "        vertical-align: middle;\n",
              "    }\n",
              "\n",
              "    .dataframe tbody tr th {\n",
              "        vertical-align: top;\n",
              "    }\n",
              "\n",
              "    .dataframe thead th {\n",
              "        text-align: right;\n",
              "    }\n",
              "</style>\n",
              "<table border=\"1\" class=\"dataframe\">\n",
              "  <thead>\n",
              "    <tr style=\"text-align: right;\">\n",
              "      <th></th>\n",
              "      <th>type</th>\n",
              "      <th>color</th>\n",
              "      <th>tyre</th>\n",
              "      <th>doors</th>\n",
              "      <th>label</th>\n",
              "    </tr>\n",
              "  </thead>\n",
              "  <tbody>\n",
              "    <tr>\n",
              "      <th>0</th>\n",
              "      <td>suv</td>\n",
              "      <td>red</td>\n",
              "      <td>white</td>\n",
              "      <td>2</td>\n",
              "      <td>1</td>\n",
              "    </tr>\n",
              "    <tr>\n",
              "      <th>1</th>\n",
              "      <td>car</td>\n",
              "      <td>green</td>\n",
              "      <td>black</td>\n",
              "      <td>2</td>\n",
              "      <td>1</td>\n",
              "    </tr>\n",
              "    <tr>\n",
              "      <th>2</th>\n",
              "      <td>car</td>\n",
              "      <td>blue</td>\n",
              "      <td>white</td>\n",
              "      <td>2</td>\n",
              "      <td>1</td>\n",
              "    </tr>\n",
              "    <tr>\n",
              "      <th>3</th>\n",
              "      <td>suv</td>\n",
              "      <td>green</td>\n",
              "      <td>white</td>\n",
              "      <td>4</td>\n",
              "      <td>1</td>\n",
              "    </tr>\n",
              "    <tr>\n",
              "      <th>4</th>\n",
              "      <td>car</td>\n",
              "      <td>red</td>\n",
              "      <td>black</td>\n",
              "      <td>2</td>\n",
              "      <td>1</td>\n",
              "    </tr>\n",
              "    <tr>\n",
              "      <th>5</th>\n",
              "      <td>minivan</td>\n",
              "      <td>blue</td>\n",
              "      <td>white</td>\n",
              "      <td>4</td>\n",
              "      <td>0</td>\n",
              "    </tr>\n",
              "    <tr>\n",
              "      <th>6</th>\n",
              "      <td>car</td>\n",
              "      <td>green</td>\n",
              "      <td>white</td>\n",
              "      <td>4</td>\n",
              "      <td>0</td>\n",
              "    </tr>\n",
              "    <tr>\n",
              "      <th>7</th>\n",
              "      <td>minivan</td>\n",
              "      <td>red</td>\n",
              "      <td>black</td>\n",
              "      <td>4</td>\n",
              "      <td>0</td>\n",
              "    </tr>\n",
              "    <tr>\n",
              "      <th>8</th>\n",
              "      <td>suv</td>\n",
              "      <td>green</td>\n",
              "      <td>black</td>\n",
              "      <td>4</td>\n",
              "      <td>0</td>\n",
              "    </tr>\n",
              "    <tr>\n",
              "      <th>9</th>\n",
              "      <td>suv</td>\n",
              "      <td>blue</td>\n",
              "      <td>black</td>\n",
              "      <td>2</td>\n",
              "      <td>0</td>\n",
              "    </tr>\n",
              "    <tr>\n",
              "      <th>10</th>\n",
              "      <td>suv</td>\n",
              "      <td>red</td>\n",
              "      <td>black</td>\n",
              "      <td>2</td>\n",
              "      <td>0</td>\n",
              "    </tr>\n",
              "    <tr>\n",
              "      <th>11</th>\n",
              "      <td>car</td>\n",
              "      <td>blue</td>\n",
              "      <td>black</td>\n",
              "      <td>4</td>\n",
              "      <td>0</td>\n",
              "    </tr>\n",
              "    <tr>\n",
              "      <th>12</th>\n",
              "      <td>suv</td>\n",
              "      <td>green</td>\n",
              "      <td>black</td>\n",
              "      <td>2</td>\n",
              "      <td>0</td>\n",
              "    </tr>\n",
              "    <tr>\n",
              "      <th>13</th>\n",
              "      <td>minivan</td>\n",
              "      <td>green</td>\n",
              "      <td>white</td>\n",
              "      <td>4</td>\n",
              "      <td>0</td>\n",
              "    </tr>\n",
              "  </tbody>\n",
              "</table>\n",
              "</div>"
            ],
            "text/plain": [
              "       type  color   tyre  doors  label\n",
              "0       suv    red  white      2      1\n",
              "1       car  green  black      2      1\n",
              "2       car   blue  white      2      1\n",
              "3       suv  green  white      4      1\n",
              "4       car    red  black      2      1\n",
              "5   minivan   blue  white      4      0\n",
              "6       car  green  white      4      0\n",
              "7   minivan    red  black      4      0\n",
              "8       suv  green  black      4      0\n",
              "9       suv   blue  black      2      0\n",
              "10      suv    red  black      2      0\n",
              "11      car   blue  black      4      0\n",
              "12      suv  green  black      2      0\n",
              "13  minivan  green  white      4      0"
            ]
          },
          "metadata": {},
          "output_type": "display_data"
        }
      ],
      "source": [
        "for node in g.nodes:\n",
        "  if node.split_feature == 'type':\n",
        "    test_case = node.df\n",
        "    display(test_case)\n",
        "\n",
        "assert len(test_case) == 14\n",
        "assert np.array_equal( test_case['color'].to_numpy() , np.array(['red', 'green', 'blue', 'green', 'red', 'blue', 'green', 'red', 'green', 'blue', 'red', 'blue', 'green', 'green'], dtype=object) )"
      ]
    },
    {
      "cell_type": "markdown",
      "metadata": {
        "id": "SZiRr3jfwWTx"
      },
      "source": [
        "## Section 3: Do Inference to Make Predictions"
      ]
    },
    {
      "cell_type": "code",
      "execution_count": 41,
      "metadata": {
        "id": "sCgGURusHMm5"
      },
      "outputs": [],
      "source": [
        "# Now let's do inference with the tree we've generated"
      ]
    },
    {
      "cell_type": "code",
      "execution_count": 42,
      "metadata": {
        "colab": {
          "base_uri": "https://localhost:8080/",
          "height": 489
        },
        "id": "tR27CbH5HMpo",
        "outputId": "01f13d5d-1001-47c4-c5da-bcbf9df1873d"
      },
      "outputs": [
        {
          "data": {
            "text/html": [
              "<div>\n",
              "<style scoped>\n",
              "    .dataframe tbody tr th:only-of-type {\n",
              "        vertical-align: middle;\n",
              "    }\n",
              "\n",
              "    .dataframe tbody tr th {\n",
              "        vertical-align: top;\n",
              "    }\n",
              "\n",
              "    .dataframe thead th {\n",
              "        text-align: right;\n",
              "    }\n",
              "</style>\n",
              "<table border=\"1\" class=\"dataframe\">\n",
              "  <thead>\n",
              "    <tr style=\"text-align: right;\">\n",
              "      <th></th>\n",
              "      <th>type</th>\n",
              "      <th>color</th>\n",
              "      <th>tyre</th>\n",
              "      <th>doors</th>\n",
              "      <th>label</th>\n",
              "    </tr>\n",
              "  </thead>\n",
              "  <tbody>\n",
              "    <tr>\n",
              "      <th>0</th>\n",
              "      <td>suv</td>\n",
              "      <td>red</td>\n",
              "      <td>white</td>\n",
              "      <td>2</td>\n",
              "      <td>1</td>\n",
              "    </tr>\n",
              "    <tr>\n",
              "      <th>1</th>\n",
              "      <td>car</td>\n",
              "      <td>green</td>\n",
              "      <td>black</td>\n",
              "      <td>2</td>\n",
              "      <td>1</td>\n",
              "    </tr>\n",
              "    <tr>\n",
              "      <th>2</th>\n",
              "      <td>car</td>\n",
              "      <td>blue</td>\n",
              "      <td>white</td>\n",
              "      <td>2</td>\n",
              "      <td>1</td>\n",
              "    </tr>\n",
              "    <tr>\n",
              "      <th>3</th>\n",
              "      <td>suv</td>\n",
              "      <td>green</td>\n",
              "      <td>white</td>\n",
              "      <td>4</td>\n",
              "      <td>1</td>\n",
              "    </tr>\n",
              "    <tr>\n",
              "      <th>4</th>\n",
              "      <td>car</td>\n",
              "      <td>red</td>\n",
              "      <td>black</td>\n",
              "      <td>2</td>\n",
              "      <td>1</td>\n",
              "    </tr>\n",
              "    <tr>\n",
              "      <th>5</th>\n",
              "      <td>minivan</td>\n",
              "      <td>blue</td>\n",
              "      <td>white</td>\n",
              "      <td>4</td>\n",
              "      <td>0</td>\n",
              "    </tr>\n",
              "    <tr>\n",
              "      <th>6</th>\n",
              "      <td>car</td>\n",
              "      <td>green</td>\n",
              "      <td>white</td>\n",
              "      <td>4</td>\n",
              "      <td>0</td>\n",
              "    </tr>\n",
              "    <tr>\n",
              "      <th>7</th>\n",
              "      <td>minivan</td>\n",
              "      <td>red</td>\n",
              "      <td>black</td>\n",
              "      <td>4</td>\n",
              "      <td>0</td>\n",
              "    </tr>\n",
              "    <tr>\n",
              "      <th>8</th>\n",
              "      <td>suv</td>\n",
              "      <td>green</td>\n",
              "      <td>black</td>\n",
              "      <td>4</td>\n",
              "      <td>0</td>\n",
              "    </tr>\n",
              "    <tr>\n",
              "      <th>9</th>\n",
              "      <td>suv</td>\n",
              "      <td>blue</td>\n",
              "      <td>black</td>\n",
              "      <td>2</td>\n",
              "      <td>0</td>\n",
              "    </tr>\n",
              "    <tr>\n",
              "      <th>10</th>\n",
              "      <td>suv</td>\n",
              "      <td>red</td>\n",
              "      <td>black</td>\n",
              "      <td>2</td>\n",
              "      <td>0</td>\n",
              "    </tr>\n",
              "    <tr>\n",
              "      <th>11</th>\n",
              "      <td>car</td>\n",
              "      <td>blue</td>\n",
              "      <td>black</td>\n",
              "      <td>4</td>\n",
              "      <td>0</td>\n",
              "    </tr>\n",
              "    <tr>\n",
              "      <th>12</th>\n",
              "      <td>suv</td>\n",
              "      <td>green</td>\n",
              "      <td>black</td>\n",
              "      <td>2</td>\n",
              "      <td>0</td>\n",
              "    </tr>\n",
              "    <tr>\n",
              "      <th>13</th>\n",
              "      <td>minivan</td>\n",
              "      <td>green</td>\n",
              "      <td>white</td>\n",
              "      <td>4</td>\n",
              "      <td>0</td>\n",
              "    </tr>\n",
              "  </tbody>\n",
              "</table>\n",
              "</div>"
            ],
            "text/plain": [
              "       type  color   tyre  doors  label\n",
              "0       suv    red  white      2      1\n",
              "1       car  green  black      2      1\n",
              "2       car   blue  white      2      1\n",
              "3       suv  green  white      4      1\n",
              "4       car    red  black      2      1\n",
              "5   minivan   blue  white      4      0\n",
              "6       car  green  white      4      0\n",
              "7   minivan    red  black      4      0\n",
              "8       suv  green  black      4      0\n",
              "9       suv   blue  black      2      0\n",
              "10      suv    red  black      2      0\n",
              "11      car   blue  black      4      0\n",
              "12      suv  green  black      2      0\n",
              "13  minivan  green  white      4      0"
            ]
          },
          "execution_count": 42,
          "metadata": {},
          "output_type": "execute_result"
        }
      ],
      "source": [
        "df"
      ]
    },
    {
      "cell_type": "code",
      "execution_count": 43,
      "metadata": {
        "id": "6WZsJs9dHMsm"
      },
      "outputs": [],
      "source": [
        "import copy\n",
        "\n",
        "df_prediction = df.copy()\n",
        "df_prediction['prediction'] = None"
      ]
    },
    {
      "cell_type": "code",
      "execution_count": 44,
      "metadata": {
        "colab": {
          "base_uri": "https://localhost:8080/",
          "height": 489
        },
        "id": "6oFLQWqpxOmh",
        "outputId": "7b63706c-7b56-4bc9-e02f-6943442450f7"
      },
      "outputs": [
        {
          "data": {
            "text/html": [
              "<div>\n",
              "<style scoped>\n",
              "    .dataframe tbody tr th:only-of-type {\n",
              "        vertical-align: middle;\n",
              "    }\n",
              "\n",
              "    .dataframe tbody tr th {\n",
              "        vertical-align: top;\n",
              "    }\n",
              "\n",
              "    .dataframe thead th {\n",
              "        text-align: right;\n",
              "    }\n",
              "</style>\n",
              "<table border=\"1\" class=\"dataframe\">\n",
              "  <thead>\n",
              "    <tr style=\"text-align: right;\">\n",
              "      <th></th>\n",
              "      <th>type</th>\n",
              "      <th>color</th>\n",
              "      <th>tyre</th>\n",
              "      <th>doors</th>\n",
              "      <th>label</th>\n",
              "      <th>prediction</th>\n",
              "    </tr>\n",
              "  </thead>\n",
              "  <tbody>\n",
              "    <tr>\n",
              "      <th>0</th>\n",
              "      <td>suv</td>\n",
              "      <td>red</td>\n",
              "      <td>white</td>\n",
              "      <td>2</td>\n",
              "      <td>1</td>\n",
              "      <td>None</td>\n",
              "    </tr>\n",
              "    <tr>\n",
              "      <th>1</th>\n",
              "      <td>car</td>\n",
              "      <td>green</td>\n",
              "      <td>black</td>\n",
              "      <td>2</td>\n",
              "      <td>1</td>\n",
              "      <td>None</td>\n",
              "    </tr>\n",
              "    <tr>\n",
              "      <th>2</th>\n",
              "      <td>car</td>\n",
              "      <td>blue</td>\n",
              "      <td>white</td>\n",
              "      <td>2</td>\n",
              "      <td>1</td>\n",
              "      <td>None</td>\n",
              "    </tr>\n",
              "    <tr>\n",
              "      <th>3</th>\n",
              "      <td>suv</td>\n",
              "      <td>green</td>\n",
              "      <td>white</td>\n",
              "      <td>4</td>\n",
              "      <td>1</td>\n",
              "      <td>None</td>\n",
              "    </tr>\n",
              "    <tr>\n",
              "      <th>4</th>\n",
              "      <td>car</td>\n",
              "      <td>red</td>\n",
              "      <td>black</td>\n",
              "      <td>2</td>\n",
              "      <td>1</td>\n",
              "      <td>None</td>\n",
              "    </tr>\n",
              "    <tr>\n",
              "      <th>5</th>\n",
              "      <td>minivan</td>\n",
              "      <td>blue</td>\n",
              "      <td>white</td>\n",
              "      <td>4</td>\n",
              "      <td>0</td>\n",
              "      <td>None</td>\n",
              "    </tr>\n",
              "    <tr>\n",
              "      <th>6</th>\n",
              "      <td>car</td>\n",
              "      <td>green</td>\n",
              "      <td>white</td>\n",
              "      <td>4</td>\n",
              "      <td>0</td>\n",
              "      <td>None</td>\n",
              "    </tr>\n",
              "    <tr>\n",
              "      <th>7</th>\n",
              "      <td>minivan</td>\n",
              "      <td>red</td>\n",
              "      <td>black</td>\n",
              "      <td>4</td>\n",
              "      <td>0</td>\n",
              "      <td>None</td>\n",
              "    </tr>\n",
              "    <tr>\n",
              "      <th>8</th>\n",
              "      <td>suv</td>\n",
              "      <td>green</td>\n",
              "      <td>black</td>\n",
              "      <td>4</td>\n",
              "      <td>0</td>\n",
              "      <td>None</td>\n",
              "    </tr>\n",
              "    <tr>\n",
              "      <th>9</th>\n",
              "      <td>suv</td>\n",
              "      <td>blue</td>\n",
              "      <td>black</td>\n",
              "      <td>2</td>\n",
              "      <td>0</td>\n",
              "      <td>None</td>\n",
              "    </tr>\n",
              "    <tr>\n",
              "      <th>10</th>\n",
              "      <td>suv</td>\n",
              "      <td>red</td>\n",
              "      <td>black</td>\n",
              "      <td>2</td>\n",
              "      <td>0</td>\n",
              "      <td>None</td>\n",
              "    </tr>\n",
              "    <tr>\n",
              "      <th>11</th>\n",
              "      <td>car</td>\n",
              "      <td>blue</td>\n",
              "      <td>black</td>\n",
              "      <td>4</td>\n",
              "      <td>0</td>\n",
              "      <td>None</td>\n",
              "    </tr>\n",
              "    <tr>\n",
              "      <th>12</th>\n",
              "      <td>suv</td>\n",
              "      <td>green</td>\n",
              "      <td>black</td>\n",
              "      <td>2</td>\n",
              "      <td>0</td>\n",
              "      <td>None</td>\n",
              "    </tr>\n",
              "    <tr>\n",
              "      <th>13</th>\n",
              "      <td>minivan</td>\n",
              "      <td>green</td>\n",
              "      <td>white</td>\n",
              "      <td>4</td>\n",
              "      <td>0</td>\n",
              "      <td>None</td>\n",
              "    </tr>\n",
              "  </tbody>\n",
              "</table>\n",
              "</div>"
            ],
            "text/plain": [
              "       type  color   tyre  doors  label prediction\n",
              "0       suv    red  white      2      1       None\n",
              "1       car  green  black      2      1       None\n",
              "2       car   blue  white      2      1       None\n",
              "3       suv  green  white      4      1       None\n",
              "4       car    red  black      2      1       None\n",
              "5   minivan   blue  white      4      0       None\n",
              "6       car  green  white      4      0       None\n",
              "7   minivan    red  black      4      0       None\n",
              "8       suv  green  black      4      0       None\n",
              "9       suv   blue  black      2      0       None\n",
              "10      suv    red  black      2      0       None\n",
              "11      car   blue  black      4      0       None\n",
              "12      suv  green  black      2      0       None\n",
              "13  minivan  green  white      4      0       None"
            ]
          },
          "execution_count": 44,
          "metadata": {},
          "output_type": "execute_result"
        }
      ],
      "source": [
        "df_prediction"
      ]
    },
    {
      "cell_type": "code",
      "execution_count": 45,
      "metadata": {
        "id": "3q98Nd27RYXr"
      },
      "outputs": [],
      "source": [
        "# This function should fill in the predicted values using our decision tree into the df in the column 'prediction'\n",
        "\n",
        "def generate_prediction(df_prediction, treeGraph):\n",
        "  # Complete the code here\n",
        "\n",
        "  prediction = []\n",
        "  \n",
        "  for i in df_prediction.index.values:\n",
        "  \n",
        "    #Starting at root node\n",
        "    node = treeGraph.root\n",
        "    predicted = False\n",
        "\n",
        "    #Setting up row\n",
        "    df_prediction_row = df_prediction.loc[i]\n",
        "    #print(\"Current Row: \\n\" , df_prediction_row)\n",
        "\n",
        "    #Loop until row is predicted\n",
        "    while not predicted:\n",
        "      if node.split_feature != None and df_prediction_row[node.split_feature] in node.children:\n",
        "        #print(\"Node's Children: \" , node.children)\n",
        "        node = node.children[df_prediction_row[node.split_feature]]\n",
        "      elif node.split_feature == None or df_prediction.at[i , node.split_feature] not in node.children:        \n",
        "        prediction.append(node.df[\"label\"].value_counts().idxmax())\n",
        "        #print(\"Predicted: \" , predicted)\n",
        "        predicted = True\n",
        "\n",
        "  df_prediction[\"prediction\"] = prediction\n",
        "\n",
        "  return df_prediction"
      ]
    },
    {
      "cell_type": "code",
      "execution_count": 46,
      "metadata": {},
      "outputs": [
        {
          "data": {
            "text/html": [
              "<div>\n",
              "<style scoped>\n",
              "    .dataframe tbody tr th:only-of-type {\n",
              "        vertical-align: middle;\n",
              "    }\n",
              "\n",
              "    .dataframe tbody tr th {\n",
              "        vertical-align: top;\n",
              "    }\n",
              "\n",
              "    .dataframe thead th {\n",
              "        text-align: right;\n",
              "    }\n",
              "</style>\n",
              "<table border=\"1\" class=\"dataframe\">\n",
              "  <thead>\n",
              "    <tr style=\"text-align: right;\">\n",
              "      <th></th>\n",
              "      <th>type</th>\n",
              "      <th>color</th>\n",
              "      <th>tyre</th>\n",
              "      <th>doors</th>\n",
              "      <th>label</th>\n",
              "    </tr>\n",
              "  </thead>\n",
              "  <tbody>\n",
              "    <tr>\n",
              "      <th>5</th>\n",
              "      <td>minivan</td>\n",
              "      <td>blue</td>\n",
              "      <td>white</td>\n",
              "      <td>4</td>\n",
              "      <td>0</td>\n",
              "    </tr>\n",
              "    <tr>\n",
              "      <th>7</th>\n",
              "      <td>minivan</td>\n",
              "      <td>red</td>\n",
              "      <td>black</td>\n",
              "      <td>4</td>\n",
              "      <td>0</td>\n",
              "    </tr>\n",
              "    <tr>\n",
              "      <th>13</th>\n",
              "      <td>minivan</td>\n",
              "      <td>green</td>\n",
              "      <td>white</td>\n",
              "      <td>4</td>\n",
              "      <td>0</td>\n",
              "    </tr>\n",
              "  </tbody>\n",
              "</table>\n",
              "</div>"
            ],
            "text/plain": [
              "       type  color   tyre  doors  label\n",
              "5   minivan   blue  white      4      0\n",
              "7   minivan    red  black      4      0\n",
              "13  minivan  green  white      4      0"
            ]
          },
          "execution_count": 46,
          "metadata": {},
          "output_type": "execute_result"
        }
      ],
      "source": [
        "g.nodes[2].df"
      ]
    },
    {
      "cell_type": "code",
      "execution_count": 47,
      "metadata": {
        "colab": {
          "base_uri": "https://localhost:8080/",
          "height": 489
        },
        "id": "OcwBUX6aHMv-",
        "outputId": "f8f1d7b4-4b85-4236-f999-1d8e295277b8"
      },
      "outputs": [
        {
          "data": {
            "text/html": [
              "<div>\n",
              "<style scoped>\n",
              "    .dataframe tbody tr th:only-of-type {\n",
              "        vertical-align: middle;\n",
              "    }\n",
              "\n",
              "    .dataframe tbody tr th {\n",
              "        vertical-align: top;\n",
              "    }\n",
              "\n",
              "    .dataframe thead th {\n",
              "        text-align: right;\n",
              "    }\n",
              "</style>\n",
              "<table border=\"1\" class=\"dataframe\">\n",
              "  <thead>\n",
              "    <tr style=\"text-align: right;\">\n",
              "      <th></th>\n",
              "      <th>type</th>\n",
              "      <th>color</th>\n",
              "      <th>tyre</th>\n",
              "      <th>doors</th>\n",
              "      <th>label</th>\n",
              "      <th>prediction</th>\n",
              "    </tr>\n",
              "  </thead>\n",
              "  <tbody>\n",
              "    <tr>\n",
              "      <th>0</th>\n",
              "      <td>suv</td>\n",
              "      <td>red</td>\n",
              "      <td>white</td>\n",
              "      <td>2</td>\n",
              "      <td>1</td>\n",
              "      <td>1</td>\n",
              "    </tr>\n",
              "    <tr>\n",
              "      <th>1</th>\n",
              "      <td>car</td>\n",
              "      <td>green</td>\n",
              "      <td>black</td>\n",
              "      <td>2</td>\n",
              "      <td>1</td>\n",
              "      <td>1</td>\n",
              "    </tr>\n",
              "    <tr>\n",
              "      <th>2</th>\n",
              "      <td>car</td>\n",
              "      <td>blue</td>\n",
              "      <td>white</td>\n",
              "      <td>2</td>\n",
              "      <td>1</td>\n",
              "      <td>1</td>\n",
              "    </tr>\n",
              "    <tr>\n",
              "      <th>3</th>\n",
              "      <td>suv</td>\n",
              "      <td>green</td>\n",
              "      <td>white</td>\n",
              "      <td>4</td>\n",
              "      <td>1</td>\n",
              "      <td>1</td>\n",
              "    </tr>\n",
              "    <tr>\n",
              "      <th>4</th>\n",
              "      <td>car</td>\n",
              "      <td>red</td>\n",
              "      <td>black</td>\n",
              "      <td>2</td>\n",
              "      <td>1</td>\n",
              "      <td>1</td>\n",
              "    </tr>\n",
              "    <tr>\n",
              "      <th>5</th>\n",
              "      <td>minivan</td>\n",
              "      <td>blue</td>\n",
              "      <td>white</td>\n",
              "      <td>4</td>\n",
              "      <td>0</td>\n",
              "      <td>0</td>\n",
              "    </tr>\n",
              "    <tr>\n",
              "      <th>6</th>\n",
              "      <td>car</td>\n",
              "      <td>green</td>\n",
              "      <td>white</td>\n",
              "      <td>4</td>\n",
              "      <td>0</td>\n",
              "      <td>0</td>\n",
              "    </tr>\n",
              "    <tr>\n",
              "      <th>7</th>\n",
              "      <td>minivan</td>\n",
              "      <td>red</td>\n",
              "      <td>black</td>\n",
              "      <td>4</td>\n",
              "      <td>0</td>\n",
              "      <td>0</td>\n",
              "    </tr>\n",
              "    <tr>\n",
              "      <th>8</th>\n",
              "      <td>suv</td>\n",
              "      <td>green</td>\n",
              "      <td>black</td>\n",
              "      <td>4</td>\n",
              "      <td>0</td>\n",
              "      <td>0</td>\n",
              "    </tr>\n",
              "    <tr>\n",
              "      <th>9</th>\n",
              "      <td>suv</td>\n",
              "      <td>blue</td>\n",
              "      <td>black</td>\n",
              "      <td>2</td>\n",
              "      <td>0</td>\n",
              "      <td>0</td>\n",
              "    </tr>\n",
              "    <tr>\n",
              "      <th>10</th>\n",
              "      <td>suv</td>\n",
              "      <td>red</td>\n",
              "      <td>black</td>\n",
              "      <td>2</td>\n",
              "      <td>0</td>\n",
              "      <td>0</td>\n",
              "    </tr>\n",
              "    <tr>\n",
              "      <th>11</th>\n",
              "      <td>car</td>\n",
              "      <td>blue</td>\n",
              "      <td>black</td>\n",
              "      <td>4</td>\n",
              "      <td>0</td>\n",
              "      <td>0</td>\n",
              "    </tr>\n",
              "    <tr>\n",
              "      <th>12</th>\n",
              "      <td>suv</td>\n",
              "      <td>green</td>\n",
              "      <td>black</td>\n",
              "      <td>2</td>\n",
              "      <td>0</td>\n",
              "      <td>0</td>\n",
              "    </tr>\n",
              "    <tr>\n",
              "      <th>13</th>\n",
              "      <td>minivan</td>\n",
              "      <td>green</td>\n",
              "      <td>white</td>\n",
              "      <td>4</td>\n",
              "      <td>0</td>\n",
              "      <td>0</td>\n",
              "    </tr>\n",
              "  </tbody>\n",
              "</table>\n",
              "</div>"
            ],
            "text/plain": [
              "       type  color   tyre  doors  label  prediction\n",
              "0       suv    red  white      2      1           1\n",
              "1       car  green  black      2      1           1\n",
              "2       car   blue  white      2      1           1\n",
              "3       suv  green  white      4      1           1\n",
              "4       car    red  black      2      1           1\n",
              "5   minivan   blue  white      4      0           0\n",
              "6       car  green  white      4      0           0\n",
              "7   minivan    red  black      4      0           0\n",
              "8       suv  green  black      4      0           0\n",
              "9       suv   blue  black      2      0           0\n",
              "10      suv    red  black      2      0           0\n",
              "11      car   blue  black      4      0           0\n",
              "12      suv  green  black      2      0           0\n",
              "13  minivan  green  white      4      0           0"
            ]
          },
          "execution_count": 47,
          "metadata": {},
          "output_type": "execute_result"
        }
      ],
      "source": [
        "prediction_result_df = generate_prediction(df_prediction,g)\n",
        "prediction_result_df"
      ]
    },
    {
      "cell_type": "code",
      "execution_count": 48,
      "metadata": {
        "id": "jgkHeA1GMsgE"
      },
      "outputs": [],
      "source": [
        "assert np.array_equal( prediction_result_df['prediction'].to_numpy(), np.array([1, 1, 1, 1, 1, 0, 0, 0, 0, 0, 0, 0, 0, 0], dtype=object) )"
      ]
    },
    {
      "cell_type": "code",
      "execution_count": 49,
      "metadata": {
        "id": "OSTifr19HMyr"
      },
      "outputs": [],
      "source": [
        "def prediction_accuracy(prediction_result_df):\n",
        "  correct = 0\n",
        "  for index, row in prediction_result_df.iterrows():\n",
        "    if row['label'] == row['prediction']:\n",
        "      correct = correct + 1\n",
        "  accuracy = correct / len(prediction_result_df)\n",
        "  return accuracy"
      ]
    },
    {
      "cell_type": "code",
      "execution_count": 50,
      "metadata": {
        "colab": {
          "base_uri": "https://localhost:8080/"
        },
        "id": "7x8Uu1dSHM1j",
        "outputId": "6c58093e-fe79-464c-a0ee-868b89541ac1"
      },
      "outputs": [
        {
          "data": {
            "text/plain": [
              "1.0"
            ]
          },
          "execution_count": 50,
          "metadata": {},
          "output_type": "execute_result"
        }
      ],
      "source": [
        "prediction_accuracy_result = prediction_accuracy(prediction_result_df)\n",
        "prediction_accuracy_result"
      ]
    },
    {
      "cell_type": "code",
      "execution_count": 51,
      "metadata": {
        "id": "-_MtWIhXOPV_"
      },
      "outputs": [],
      "source": [
        "assert prediction_accuracy_result == 1"
      ]
    },
    {
      "cell_type": "markdown",
      "metadata": {
        "id": "xsGewsDbh7OL"
      },
      "source": [
        "## Section 4: Test with Proper Dataset"
      ]
    },
    {
      "cell_type": "code",
      "execution_count": 52,
      "metadata": {
        "colab": {
          "base_uri": "https://localhost:8080/",
          "height": 206
        },
        "id": "E_Lfidece_8p",
        "outputId": "23776ae5-4ff0-4f90-e530-da52555adcc1"
      },
      "outputs": [
        {
          "data": {
            "text/html": [
              "<div>\n",
              "<style scoped>\n",
              "    .dataframe tbody tr th:only-of-type {\n",
              "        vertical-align: middle;\n",
              "    }\n",
              "\n",
              "    .dataframe tbody tr th {\n",
              "        vertical-align: top;\n",
              "    }\n",
              "\n",
              "    .dataframe thead th {\n",
              "        text-align: right;\n",
              "    }\n",
              "</style>\n",
              "<table border=\"1\" class=\"dataframe\">\n",
              "  <thead>\n",
              "    <tr style=\"text-align: right;\">\n",
              "      <th></th>\n",
              "      <th>buying</th>\n",
              "      <th>maintainance</th>\n",
              "      <th>doors</th>\n",
              "      <th>person</th>\n",
              "      <th>luggage_boot</th>\n",
              "      <th>safety</th>\n",
              "      <th>label</th>\n",
              "    </tr>\n",
              "  </thead>\n",
              "  <tbody>\n",
              "    <tr>\n",
              "      <th>0</th>\n",
              "      <td>vhigh</td>\n",
              "      <td>vhigh</td>\n",
              "      <td>2</td>\n",
              "      <td>2</td>\n",
              "      <td>small</td>\n",
              "      <td>low</td>\n",
              "      <td>unacc</td>\n",
              "    </tr>\n",
              "    <tr>\n",
              "      <th>1</th>\n",
              "      <td>vhigh</td>\n",
              "      <td>vhigh</td>\n",
              "      <td>2</td>\n",
              "      <td>2</td>\n",
              "      <td>small</td>\n",
              "      <td>med</td>\n",
              "      <td>unacc</td>\n",
              "    </tr>\n",
              "    <tr>\n",
              "      <th>2</th>\n",
              "      <td>vhigh</td>\n",
              "      <td>vhigh</td>\n",
              "      <td>2</td>\n",
              "      <td>2</td>\n",
              "      <td>small</td>\n",
              "      <td>high</td>\n",
              "      <td>unacc</td>\n",
              "    </tr>\n",
              "    <tr>\n",
              "      <th>3</th>\n",
              "      <td>vhigh</td>\n",
              "      <td>vhigh</td>\n",
              "      <td>2</td>\n",
              "      <td>2</td>\n",
              "      <td>med</td>\n",
              "      <td>low</td>\n",
              "      <td>unacc</td>\n",
              "    </tr>\n",
              "    <tr>\n",
              "      <th>4</th>\n",
              "      <td>vhigh</td>\n",
              "      <td>vhigh</td>\n",
              "      <td>2</td>\n",
              "      <td>2</td>\n",
              "      <td>med</td>\n",
              "      <td>med</td>\n",
              "      <td>unacc</td>\n",
              "    </tr>\n",
              "  </tbody>\n",
              "</table>\n",
              "</div>"
            ],
            "text/plain": [
              "  buying maintainance doors person luggage_boot safety  label\n",
              "0  vhigh        vhigh     2      2        small    low  unacc\n",
              "1  vhigh        vhigh     2      2        small    med  unacc\n",
              "2  vhigh        vhigh     2      2        small   high  unacc\n",
              "3  vhigh        vhigh     2      2          med    low  unacc\n",
              "4  vhigh        vhigh     2      2          med    med  unacc"
            ]
          },
          "execution_count": 52,
          "metadata": {},
          "output_type": "execute_result"
        }
      ],
      "source": [
        "# Get dataset from here: https://archive.ics.uci.edu/dataset/19/car+evaluation\n",
        "\n",
        "# buying - buying price\n",
        "# maintainance - price of the maintenance\n",
        "# doors - number of doors\n",
        "# person - capacity in terms of persons to carry\n",
        "# luggage_boot - the size of luggage boot\n",
        "# safety - estimated safety of the car\n",
        "# label - evaulation level (unacceptable, acceptable, good, very good)\n",
        "\n",
        "df_car = pd.read_csv('dataset\\car.data', sep=',', header=None)\n",
        "\n",
        "# Assign column names to the DataFrame\n",
        "df_car.columns = ['buying', 'maintainance', 'doors', 'person', 'luggage_boot', 'safety', 'label' ]\n",
        "\n",
        "df_car.head()"
      ]
    },
    {
      "cell_type": "code",
      "execution_count": 53,
      "metadata": {
        "id": "3vhViDVMoHi2"
      },
      "outputs": [],
      "source": [
        "from sklearn.model_selection import train_test_split\n",
        "\n",
        "df_car_train, df_car_test = train_test_split(df_car, test_size=0.2, random_state=42)"
      ]
    },
    {
      "cell_type": "code",
      "execution_count": 54,
      "metadata": {},
      "outputs": [
        {
          "data": {
            "text/html": [
              "<div>\n",
              "<style scoped>\n",
              "    .dataframe tbody tr th:only-of-type {\n",
              "        vertical-align: middle;\n",
              "    }\n",
              "\n",
              "    .dataframe tbody tr th {\n",
              "        vertical-align: top;\n",
              "    }\n",
              "\n",
              "    .dataframe thead th {\n",
              "        text-align: right;\n",
              "    }\n",
              "</style>\n",
              "<table border=\"1\" class=\"dataframe\">\n",
              "  <thead>\n",
              "    <tr style=\"text-align: right;\">\n",
              "      <th></th>\n",
              "      <th>buying</th>\n",
              "      <th>maintainance</th>\n",
              "      <th>doors</th>\n",
              "      <th>person</th>\n",
              "      <th>luggage_boot</th>\n",
              "      <th>safety</th>\n",
              "      <th>label</th>\n",
              "    </tr>\n",
              "  </thead>\n",
              "  <tbody>\n",
              "    <tr>\n",
              "      <th>107</th>\n",
              "      <td>vhigh</td>\n",
              "      <td>vhigh</td>\n",
              "      <td>5more</td>\n",
              "      <td>more</td>\n",
              "      <td>big</td>\n",
              "      <td>high</td>\n",
              "      <td>unacc</td>\n",
              "    </tr>\n",
              "    <tr>\n",
              "      <th>901</th>\n",
              "      <td>med</td>\n",
              "      <td>vhigh</td>\n",
              "      <td>3</td>\n",
              "      <td>4</td>\n",
              "      <td>small</td>\n",
              "      <td>med</td>\n",
              "      <td>unacc</td>\n",
              "    </tr>\n",
              "    <tr>\n",
              "      <th>1709</th>\n",
              "      <td>low</td>\n",
              "      <td>low</td>\n",
              "      <td>5more</td>\n",
              "      <td>2</td>\n",
              "      <td>big</td>\n",
              "      <td>high</td>\n",
              "      <td>unacc</td>\n",
              "    </tr>\n",
              "    <tr>\n",
              "      <th>706</th>\n",
              "      <td>high</td>\n",
              "      <td>med</td>\n",
              "      <td>4</td>\n",
              "      <td>2</td>\n",
              "      <td>med</td>\n",
              "      <td>med</td>\n",
              "      <td>unacc</td>\n",
              "    </tr>\n",
              "    <tr>\n",
              "      <th>678</th>\n",
              "      <td>high</td>\n",
              "      <td>med</td>\n",
              "      <td>3</td>\n",
              "      <td>2</td>\n",
              "      <td>med</td>\n",
              "      <td>low</td>\n",
              "      <td>unacc</td>\n",
              "    </tr>\n",
              "    <tr>\n",
              "      <th>...</th>\n",
              "      <td>...</td>\n",
              "      <td>...</td>\n",
              "      <td>...</td>\n",
              "      <td>...</td>\n",
              "      <td>...</td>\n",
              "      <td>...</td>\n",
              "      <td>...</td>\n",
              "    </tr>\n",
              "    <tr>\n",
              "      <th>1130</th>\n",
              "      <td>med</td>\n",
              "      <td>med</td>\n",
              "      <td>3</td>\n",
              "      <td>more</td>\n",
              "      <td>med</td>\n",
              "      <td>high</td>\n",
              "      <td>vgood</td>\n",
              "    </tr>\n",
              "    <tr>\n",
              "      <th>1294</th>\n",
              "      <td>med</td>\n",
              "      <td>low</td>\n",
              "      <td>5more</td>\n",
              "      <td>more</td>\n",
              "      <td>big</td>\n",
              "      <td>med</td>\n",
              "      <td>good</td>\n",
              "    </tr>\n",
              "    <tr>\n",
              "      <th>860</th>\n",
              "      <td>high</td>\n",
              "      <td>low</td>\n",
              "      <td>5more</td>\n",
              "      <td>more</td>\n",
              "      <td>med</td>\n",
              "      <td>high</td>\n",
              "      <td>acc</td>\n",
              "    </tr>\n",
              "    <tr>\n",
              "      <th>1459</th>\n",
              "      <td>low</td>\n",
              "      <td>high</td>\n",
              "      <td>4</td>\n",
              "      <td>2</td>\n",
              "      <td>small</td>\n",
              "      <td>med</td>\n",
              "      <td>unacc</td>\n",
              "    </tr>\n",
              "    <tr>\n",
              "      <th>1126</th>\n",
              "      <td>med</td>\n",
              "      <td>med</td>\n",
              "      <td>3</td>\n",
              "      <td>more</td>\n",
              "      <td>small</td>\n",
              "      <td>med</td>\n",
              "      <td>acc</td>\n",
              "    </tr>\n",
              "  </tbody>\n",
              "</table>\n",
              "<p>1382 rows × 7 columns</p>\n",
              "</div>"
            ],
            "text/plain": [
              "     buying maintainance  doors person luggage_boot safety  label\n",
              "107   vhigh        vhigh  5more   more          big   high  unacc\n",
              "901     med        vhigh      3      4        small    med  unacc\n",
              "1709    low          low  5more      2          big   high  unacc\n",
              "706    high          med      4      2          med    med  unacc\n",
              "678    high          med      3      2          med    low  unacc\n",
              "...     ...          ...    ...    ...          ...    ...    ...\n",
              "1130    med          med      3   more          med   high  vgood\n",
              "1294    med          low  5more   more          big    med   good\n",
              "860    high          low  5more   more          med   high    acc\n",
              "1459    low         high      4      2        small    med  unacc\n",
              "1126    med          med      3   more        small    med    acc\n",
              "\n",
              "[1382 rows x 7 columns]"
            ]
          },
          "execution_count": 54,
          "metadata": {},
          "output_type": "execute_result"
        }
      ],
      "source": [
        "df_car_train"
      ]
    },
    {
      "cell_type": "code",
      "execution_count": 55,
      "metadata": {
        "id": "pFFjoePwe_-1"
      },
      "outputs": [],
      "source": [
        "columns_list = df_car.columns.tolist()\n",
        "columns_list.remove('label')\n",
        "g_car = TreeGraph(df_car_train, columns_list)\n",
        "g_car.gen_decision_tree()"
      ]
    },
    {
      "cell_type": "code",
      "execution_count": 56,
      "metadata": {},
      "outputs": [
        {
          "data": {
            "text/plain": [
              "['buying', 'maintainance', 'doors', 'person', 'luggage_boot', 'safety']"
            ]
          },
          "execution_count": 56,
          "metadata": {},
          "output_type": "execute_result"
        }
      ],
      "source": [
        "columns_list"
      ]
    },
    {
      "cell_type": "code",
      "execution_count": 57,
      "metadata": {
        "colab": {
          "base_uri": "https://localhost:8080/"
        },
        "id": "uFT6PYnmfAB7",
        "outputId": "2ff66e7f-bf28-442a-9e94-45113798e423"
      },
      "outputs": [
        {
          "data": {
            "text/plain": [
              "346"
            ]
          },
          "execution_count": 57,
          "metadata": {},
          "output_type": "execute_result"
        }
      ],
      "source": [
        "len(g_car.nodes)"
      ]
    },
    {
      "cell_type": "code",
      "execution_count": 58,
      "metadata": {
        "id": "4YOQNe2zfAEo"
      },
      "outputs": [],
      "source": [
        "df_car_prediction = df_car_test.copy()\n",
        "df_car_prediction['prediction'] = None\n",
        "df_car_prediction_result = generate_prediction(df_car_prediction, g_car)"
      ]
    },
    {
      "cell_type": "code",
      "execution_count": 59,
      "metadata": {
        "colab": {
          "base_uri": "https://localhost:8080/"
        },
        "id": "_-IGhlidCR2S",
        "outputId": "511fb343-c543-484d-d968-7a9f0d1dfc21"
      },
      "outputs": [
        {
          "data": {
            "text/plain": [
              "599     unacc\n",
              "1201     good\n",
              "628     unacc\n",
              "1498      acc\n",
              "1263    unacc\n",
              "        ...  \n",
              "100     unacc\n",
              "274     unacc\n",
              "1206    unacc\n",
              "101     unacc\n",
              "1084    unacc\n",
              "Name: prediction, Length: 346, dtype: object"
            ]
          },
          "execution_count": 59,
          "metadata": {},
          "output_type": "execute_result"
        }
      ],
      "source": [
        "df_car_prediction_result['prediction']"
      ]
    },
    {
      "cell_type": "code",
      "execution_count": 60,
      "metadata": {
        "colab": {
          "base_uri": "https://localhost:8080/",
          "height": 424
        },
        "id": "3URI3GlGOgm7",
        "outputId": "d5861823-45f7-4a9a-9c99-9a4439293190"
      },
      "outputs": [
        {
          "data": {
            "text/html": [
              "<div>\n",
              "<style scoped>\n",
              "    .dataframe tbody tr th:only-of-type {\n",
              "        vertical-align: middle;\n",
              "    }\n",
              "\n",
              "    .dataframe tbody tr th {\n",
              "        vertical-align: top;\n",
              "    }\n",
              "\n",
              "    .dataframe thead th {\n",
              "        text-align: right;\n",
              "    }\n",
              "</style>\n",
              "<table border=\"1\" class=\"dataframe\">\n",
              "  <thead>\n",
              "    <tr style=\"text-align: right;\">\n",
              "      <th></th>\n",
              "      <th>buying</th>\n",
              "      <th>maintainance</th>\n",
              "      <th>doors</th>\n",
              "      <th>person</th>\n",
              "      <th>luggage_boot</th>\n",
              "      <th>safety</th>\n",
              "      <th>label</th>\n",
              "      <th>prediction</th>\n",
              "    </tr>\n",
              "  </thead>\n",
              "  <tbody>\n",
              "    <tr>\n",
              "      <th>599</th>\n",
              "      <td>high</td>\n",
              "      <td>high</td>\n",
              "      <td>4</td>\n",
              "      <td>2</td>\n",
              "      <td>med</td>\n",
              "      <td>high</td>\n",
              "      <td>unacc</td>\n",
              "      <td>unacc</td>\n",
              "    </tr>\n",
              "    <tr>\n",
              "      <th>1201</th>\n",
              "      <td>med</td>\n",
              "      <td>low</td>\n",
              "      <td>2</td>\n",
              "      <td>4</td>\n",
              "      <td>med</td>\n",
              "      <td>med</td>\n",
              "      <td>acc</td>\n",
              "      <td>good</td>\n",
              "    </tr>\n",
              "    <tr>\n",
              "      <th>628</th>\n",
              "      <td>high</td>\n",
              "      <td>high</td>\n",
              "      <td>5more</td>\n",
              "      <td>2</td>\n",
              "      <td>big</td>\n",
              "      <td>med</td>\n",
              "      <td>unacc</td>\n",
              "      <td>unacc</td>\n",
              "    </tr>\n",
              "    <tr>\n",
              "      <th>1498</th>\n",
              "      <td>low</td>\n",
              "      <td>high</td>\n",
              "      <td>5more</td>\n",
              "      <td>4</td>\n",
              "      <td>med</td>\n",
              "      <td>med</td>\n",
              "      <td>acc</td>\n",
              "      <td>acc</td>\n",
              "    </tr>\n",
              "    <tr>\n",
              "      <th>1263</th>\n",
              "      <td>med</td>\n",
              "      <td>low</td>\n",
              "      <td>4</td>\n",
              "      <td>more</td>\n",
              "      <td>med</td>\n",
              "      <td>low</td>\n",
              "      <td>unacc</td>\n",
              "      <td>unacc</td>\n",
              "    </tr>\n",
              "    <tr>\n",
              "      <th>...</th>\n",
              "      <td>...</td>\n",
              "      <td>...</td>\n",
              "      <td>...</td>\n",
              "      <td>...</td>\n",
              "      <td>...</td>\n",
              "      <td>...</td>\n",
              "      <td>...</td>\n",
              "      <td>...</td>\n",
              "    </tr>\n",
              "    <tr>\n",
              "      <th>100</th>\n",
              "      <td>vhigh</td>\n",
              "      <td>vhigh</td>\n",
              "      <td>5more</td>\n",
              "      <td>more</td>\n",
              "      <td>small</td>\n",
              "      <td>med</td>\n",
              "      <td>unacc</td>\n",
              "      <td>unacc</td>\n",
              "    </tr>\n",
              "    <tr>\n",
              "      <th>274</th>\n",
              "      <td>vhigh</td>\n",
              "      <td>med</td>\n",
              "      <td>4</td>\n",
              "      <td>2</td>\n",
              "      <td>med</td>\n",
              "      <td>med</td>\n",
              "      <td>unacc</td>\n",
              "      <td>unacc</td>\n",
              "    </tr>\n",
              "    <tr>\n",
              "      <th>1206</th>\n",
              "      <td>med</td>\n",
              "      <td>low</td>\n",
              "      <td>2</td>\n",
              "      <td>more</td>\n",
              "      <td>small</td>\n",
              "      <td>low</td>\n",
              "      <td>unacc</td>\n",
              "      <td>unacc</td>\n",
              "    </tr>\n",
              "    <tr>\n",
              "      <th>101</th>\n",
              "      <td>vhigh</td>\n",
              "      <td>vhigh</td>\n",
              "      <td>5more</td>\n",
              "      <td>more</td>\n",
              "      <td>small</td>\n",
              "      <td>high</td>\n",
              "      <td>unacc</td>\n",
              "      <td>unacc</td>\n",
              "    </tr>\n",
              "    <tr>\n",
              "      <th>1084</th>\n",
              "      <td>med</td>\n",
              "      <td>med</td>\n",
              "      <td>2</td>\n",
              "      <td>2</td>\n",
              "      <td>med</td>\n",
              "      <td>med</td>\n",
              "      <td>unacc</td>\n",
              "      <td>unacc</td>\n",
              "    </tr>\n",
              "  </tbody>\n",
              "</table>\n",
              "<p>346 rows × 8 columns</p>\n",
              "</div>"
            ],
            "text/plain": [
              "     buying maintainance  doors person luggage_boot safety  label prediction\n",
              "599    high         high      4      2          med   high  unacc      unacc\n",
              "1201    med          low      2      4          med    med    acc       good\n",
              "628    high         high  5more      2          big    med  unacc      unacc\n",
              "1498    low         high  5more      4          med    med    acc        acc\n",
              "1263    med          low      4   more          med    low  unacc      unacc\n",
              "...     ...          ...    ...    ...          ...    ...    ...        ...\n",
              "100   vhigh        vhigh  5more   more        small    med  unacc      unacc\n",
              "274   vhigh          med      4      2          med    med  unacc      unacc\n",
              "1206    med          low      2   more        small    low  unacc      unacc\n",
              "101   vhigh        vhigh  5more   more        small   high  unacc      unacc\n",
              "1084    med          med      2      2          med    med  unacc      unacc\n",
              "\n",
              "[346 rows x 8 columns]"
            ]
          },
          "execution_count": 60,
          "metadata": {},
          "output_type": "execute_result"
        }
      ],
      "source": [
        "df_car_prediction_result"
      ]
    },
    {
      "cell_type": "code",
      "execution_count": 61,
      "metadata": {
        "colab": {
          "base_uri": "https://localhost:8080/"
        },
        "id": "ty0BnwmfCJQg",
        "outputId": "058d42ef-161a-4863-b062-e1b17c508511"
      },
      "outputs": [
        {
          "data": {
            "text/plain": [
              "0.9075144508670521"
            ]
          },
          "execution_count": 61,
          "metadata": {},
          "output_type": "execute_result"
        }
      ],
      "source": [
        "prediction_accuracy_result = prediction_accuracy(df_car_prediction_result)\n",
        "prediction_accuracy_result"
      ]
    },
    {
      "cell_type": "code",
      "execution_count": 62,
      "metadata": {
        "id": "ro96_Q4KfAIA"
      },
      "outputs": [],
      "source": [
        "assert prediction_accuracy_result > 0.9"
      ]
    },
    {
      "cell_type": "code",
      "execution_count": 63,
      "metadata": {
        "id": "JHVN6ozUfALk"
      },
      "outputs": [],
      "source": [
        "assert len(df_car_prediction_result[df_car_prediction_result['prediction'].isna()]) == 0"
      ]
    }
  ],
  "metadata": {
    "colab": {
      "provenance": []
    },
    "kernelspec": {
      "display_name": "Python 3",
      "name": "python3"
    },
    "language_info": {
      "codemirror_mode": {
        "name": "ipython",
        "version": 3
      },
      "file_extension": ".py",
      "mimetype": "text/x-python",
      "name": "python",
      "nbconvert_exporter": "python",
      "pygments_lexer": "ipython3",
      "version": "3.10.11"
    }
  },
  "nbformat": 4,
  "nbformat_minor": 0
}
